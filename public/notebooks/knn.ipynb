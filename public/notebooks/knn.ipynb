{
 "cells": [
  {
   "cell_type": "code",
   "execution_count": 3,
   "id": "ccfd7f05",
   "metadata": {},
   "outputs": [
    {
     "name": "stdout",
     "output_type": "stream",
     "text": [
      "knn with k=3\n",
      "cross validation accuracy: 0.958992\n",
      "classifiaction report:\n",
      "              precision    recall  f1-score   support\n",
      "\n",
      "           0       0.93      0.85      0.89       149\n",
      "           1       0.92      0.96      0.94       249\n",
      "\n",
      "    accuracy                           0.92       398\n",
      "   macro avg       0.92      0.91      0.92       398\n",
      "weighted avg       0.92      0.92      0.92       398\n",
      "\n",
      "knn with k=5\n",
      "cross validation accuracy: 0.953109\n",
      "classifiaction report:\n",
      "              precision    recall  f1-score   support\n",
      "\n",
      "           0       0.92      0.84      0.88       149\n",
      "           1       0.91      0.96      0.93       249\n",
      "\n",
      "    accuracy                           0.91       398\n",
      "   macro avg       0.91      0.90      0.90       398\n",
      "weighted avg       0.91      0.91      0.91       398\n",
      "\n",
      "knn with k=7\n",
      "cross validation accuracy: 0.953109\n",
      "classifiaction report:\n",
      "              precision    recall  f1-score   support\n",
      "\n",
      "           0       0.93      0.84      0.88       149\n",
      "           1       0.91      0.96      0.93       249\n",
      "\n",
      "    accuracy                           0.91       398\n",
      "   macro avg       0.92      0.90      0.91       398\n",
      "weighted avg       0.92      0.91      0.91       398\n",
      "\n",
      "knn with k=11\n",
      "cross validation accuracy: 0.947059\n",
      "classifiaction report:\n",
      "              precision    recall  f1-score   support\n",
      "\n",
      "           0       0.92      0.85      0.88       149\n",
      "           1       0.91      0.96      0.93       249\n",
      "\n",
      "    accuracy                           0.91       398\n",
      "   macro avg       0.92      0.90      0.91       398\n",
      "weighted avg       0.91      0.91      0.91       398\n",
      "\n"
     ]
    },
    {
     "data": {
      "text/plain": [
       "<function matplotlib.pyplot.show(close=None, block=None)>"
      ]
     },
     "execution_count": 3,
     "metadata": {},
     "output_type": "execute_result"
    },
    {
     "data": {
      "image/png": "[encoded data removed]",
      "text/plain": [
       "<Figure size 576x360 with 1 Axes>"
      ]
     },
     "metadata": {
      "needs_background": "light"
     },
     "output_type": "display_data"
    }
   ],
   "source": [
    "import matplotlib.pyplot as plt\n",
    "import pandas as pd\n",
    "import numpy as np\n",
    "from sklearn.model_selection import train_test_split,cross_val_score\n",
    "from sklearn.datasets import load_breast_cancer\n",
    "from sklearn.neighbors import KNeighborsClassifier\n",
    "from sklearn.metrics import classification_report\n",
    "cancer=load_breast_cancer()\n",
    "X=cancer.data\n",
    "y=cancer.target\n",
    "X_test,X_train,y_test,y_train=train_test_split(X,y,test_size=0.3,random_state=42)\n",
    "K_values=[3,5,7,11]\n",
    "accuracies=[]\n",
    "for k in K_values:\n",
    "    print(f\"knn with k={k}\")\n",
    "    knn=KNeighborsClassifier(n_neighbors=k)\n",
    "    cv_scores=cross_val_score(knn,X_train,y_train,cv=5)\n",
    "    mean_accuracy=cv_scores.mean()\n",
    "    accuracies.append(mean_accuracy)\n",
    "    print(f'cross validation accuracy: {mean_accuracy:.6f}')\n",
    "    knn.fit(X_train,y_train)\n",
    "    y_pred=knn.predict(X_test)\n",
    "    report=classification_report(y_test,y_pred)\n",
    "    print(f\"classifiaction report:\\n{report}\")\n",
    "plt.figure(figsize=(8,5))\n",
    "plt.plot(K_values,accuracies,marker='o',color='b',label=\"cross validation accuracy\")\n",
    "plt.xlabel(\"number of neighbors\")\n",
    "plt.ylabel(\"accuracy\")\n",
    "plt.title(\"knn accuracy \")\n",
    "plt.xticks(K_values)\n",
    "plt.legend()\n",
    "plt.grid(True)\n",
    "plt.show"
   ]
  }
 ],
 "metadata": {
  "kernelspec": {
   "display_name": "base",
   "language": "python",
   "name": "python3"
  },
  "language_info": {
   "codemirror_mode": {
    "name": "ipython",
    "version": 3
   },
   "file_extension": ".py",
   "mimetype": "text/x-python",
   "name": "python",
   "nbconvert_exporter": "python",
   "pygments_lexer": "ipython3",
   "version": "3.9.12"
  }
 },
 "nbformat": 4,
 "nbformat_minor": 5
}
